{
    "cells": [
        {
            "metadata": {
                "collapsed": true
            },
            "cell_type": "markdown",
            "source": "# Applied Data Science Capstone"
        },
        {
            "metadata": {},
            "cell_type": "markdown",
            "source": "### Now that you have been equipped with the skills and the tools to use location data to explore a geographical location, over the course of two weeks, you will have the opportunity to be as creative as you want and come up with an idea to leverage the Foursquare location data to explore or compare neighborhoods or cities of your choice or to come up with a problem that you can use the Foursquare location data to solve."
        },
        {
            "metadata": {},
            "cell_type": "markdown",
            "source": "### 1- Introduction/ Business Problem:"
        },
        {
            "metadata": {},
            "cell_type": "markdown",
            "source": "Clearly define a problem or an idea of your choice, where you would need to leverage the Foursquare location data to solve or execute. Remember that data science problems always target an audience and are meant to help a group of stakeholders solve a problem, so make sure that you explicitly describe your audience and why they would care about your problem."
        },
        {
            "metadata": {},
            "cell_type": "markdown",
            "source": "#### In this introduction and Business Problem, I will layout the idea of this study as it is defined to help people planning to open a new restaurant in Toronto by choosing the right location.In order to do that I will provide data about the income and population of each neighborhood as well as the competitors already present on the same regions."
        },
        {
            "metadata": {},
            "cell_type": "markdown",
            "source": "### 2- Data Section:"
        },
        {
            "metadata": {},
            "cell_type": "markdown",
            "source": "Describe the data that you will be using to solve the problem or execute your idea. Remember that you will need to use the Foursquare location data to solve the problem or execute your idea. You can absolutely use other datasets in combination with the Foursquare location data. So make sure that you provide adequate explanation and discussion, with examples, of the data that you will be using, even if it is only Foursquare location data."
        },
        {
            "metadata": {},
            "cell_type": "markdown",
            "source": "#### I will used data provide 2 websites which is the toronto'sensus data and the Toronto'sNeighboords'shapefile. This will help the shakeholder having the proper information that they need in order to collect the same neighborhood competitor.\n\n#### Toronto's Census data is publicly available at this website:\u00a0https://www.toronto.ca/city-government/data-research-maps/open-data/open-data-catalogue/#8c732154-5012-9afe-d0cd-ba3ffc813d5a\n"
        },
        {
            "metadata": {},
            "cell_type": "markdown",
            "source": "First of all, I will start by importing the different library I will need"
        },
        {
            "metadata": {},
            "cell_type": "code",
            "source": "import numpy as np # library to handle data in a vectorized manner\n\nimport pandas as pd # library for data analsysis\npd.set_option('display.max_columns', None)\npd.set_option('display.max_rows', None)\n\n!conda install -c conda-forge geopy --yes # uncomment this line if you haven't completed the Foursquare API lab\nfrom geopy.geocoders import Nominatim # convert an address into latitude and longitude values\n\n!conda install -c conda-forge folium=0.5.0 --yes # uncomment this line if you haven't completed the Foursquare API lab\nimport folium # map rendering library\n\nprint('Libraries imported.')",
            "execution_count": null,
            "outputs": []
        },
        {
            "metadata": {},
            "cell_type": "code",
            "source": "!pip install geopy",
            "execution_count": null,
            "outputs": []
        },
        {
            "metadata": {},
            "cell_type": "code",
            "source": "!pip install folium",
            "execution_count": null,
            "outputs": []
        },
        {
            "metadata": {},
            "cell_type": "markdown",
            "source": "In second, I will have to open the website as a csv file"
        },
        {
            "metadata": {},
            "cell_type": "code",
            "source": "csv_path='https://www.toronto.ca/ext/open_data/catalog/data_set_files/2016_neighbourhood_profiles.csv'\ndf = pd.read_csv(csv_path,encoding='latin1')\nprint('Data loaded')",
            "execution_count": null,
            "outputs": []
        },
        {
            "metadata": {},
            "cell_type": "markdown",
            "source": "I open the 5 first line of the table"
        },
        {
            "metadata": {},
            "cell_type": "code",
            "source": "df.head()",
            "execution_count": null,
            "outputs": []
        },
        {
            "metadata": {},
            "cell_type": "markdown",
            "source": "I collect the neighboorhoods names"
        },
        {
            "metadata": {},
            "cell_type": "code",
            "source": "Neighbourhoods = list(df.columns.values)\nNeighbourhoods = Neighbourhoods[5:]\nprint(Neighbourhoods)",
            "execution_count": null,
            "outputs": []
        },
        {
            "metadata": {},
            "cell_type": "markdown",
            "source": "I then create my own dataset"
        },
        {
            "metadata": {},
            "cell_type": "code",
            "source": "dfToronto = pd.DataFrame(index=Neighbourhoods, columns=[\"Population_2016\",\"Income_2016\"])\ndfToronto.head()",
            "execution_count": null,
            "outputs": []
        },
        {
            "metadata": {},
            "cell_type": "code",
            "source": "for index, row in dfToronto.iterrows():\n    dfToronto.at[index, 'Population_2016'] = df[index][2]\n    dfToronto.at[index, 'Income_2016'] = df[index][2264]\n    \n\ndfToronto.sort_values('Income_2016')",
            "execution_count": null,
            "outputs": []
        },
        {
            "metadata": {},
            "cell_type": "markdown",
            "source": "### 3- Methodology:"
        },
        {
            "metadata": {},
            "cell_type": "markdown",
            "source": "Methodology section which represents the main component of the report where you discuss and describe any exploratory data analysis that you did, any inferential statistical testing that you performed, and what machine learnings were used and why."
        },
        {
            "metadata": {},
            "cell_type": "markdown",
            "source": "#### In the methodology section I will layout what I used that could help a new investor to decide the best neighborhood in order to open a restaurant in Toronto. I based this outcome on the 2016 Census information. The different variables I used to do so are income, population and available competitors. In order to do that I've used  combined with choropleth maps to visually display the wealthier and more populational neighborhoods data to display the current restaurants in each region."
        },
        {
            "metadata": {},
            "cell_type": "markdown",
            "source": "### 4- Results:"
        },
        {
            "metadata": {},
            "cell_type": "markdown",
            "source": "Results section where you discuss the results."
        },
        {
            "metadata": {},
            "cell_type": "markdown",
            "source": "#### After Carefully analysing the data, we notice that most of the restaurants are concentred on streets located on the south of the city, although some of the welthiest neighborhoods are up to the north. There are less restaurant on the area where the population is dense."
        },
        {
            "metadata": {},
            "cell_type": "markdown",
            "source": "### 5- Discusssion:"
        },
        {
            "metadata": {},
            "cell_type": "markdown",
            "source": "where you discuss any observations you noted and any recommendations you can make based on the results."
        },
        {
            "metadata": {},
            "cell_type": "markdown",
            "source": "#### I can say that the expectation where not meet since I find that I could not find the cluster in certain regions."
        },
        {
            "metadata": {},
            "cell_type": "markdown",
            "source": "### 6- Conclusion:"
        },
        {
            "metadata": {},
            "cell_type": "markdown",
            "source": "where you conclude the report."
        },
        {
            "metadata": {},
            "cell_type": "markdown",
            "source": "#### This could help people looking to open some new restaurants around Toronto by using the 2016 Census Toronto Data at this website:  https://www.toronto.ca/city-government/data-research-maps/open-data/open-data-catalogue/#8c732154-5012-9afe-d0cd-ba3ffc813d5a. Although, it may not cover all variables such as access to public transportation or even the restaurants profiles."
        },
        {
            "metadata": {},
            "cell_type": "code",
            "source": "",
            "execution_count": null,
            "outputs": []
        }
    ],
    "metadata": {
        "kernelspec": {
            "name": "python3",
            "display_name": "Python 3.7",
            "language": "python"
        },
        "language_info": {
            "name": "python",
            "version": "3.7.9",
            "mimetype": "text/x-python",
            "codemirror_mode": {
                "name": "ipython",
                "version": 3
            },
            "pygments_lexer": "ipython3",
            "nbconvert_exporter": "python",
            "file_extension": ".py"
        }
    },
    "nbformat": 4,
    "nbformat_minor": 1
}