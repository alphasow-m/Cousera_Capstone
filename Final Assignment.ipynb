{
    "cells": [
        {
            "metadata": {
                "collapsed": true
            },
            "cell_type": "markdown",
            "source": "# Segmenting and Clustering Neighborhoods in Toronto"
        },
        {
            "metadata": {},
            "cell_type": "markdown",
            "source": "### In this assignment, you will be required to explore, segment, and cluster the neighborhoods in the city of Toronto based on the postalcode and borough information.. However, unlike New York, the neighborhood data is not readily available on the internet. What is interesting about the field of data science is that each project can be challenging in its unique way, so you need to learn to be agile and refine the skill to learn new libraries and tools quickly depending on the project.\n\n### For the Toronto neighborhood data, a Wikipedia page exists that has all the information we need to explore and cluster the neighborhoods in Toronto. You will be required to scrape the Wikipedia page and wrangle the data, clean it, and then read it into a pandas  dataframe so that it is in a structured format like the New York dataset.\n\n### Once the data is in a structured format, you can replicate the analysis that we did to the New York City dataset to explore and cluster the neighborhoods in the city of Toronto.\n\nYour submission will be a link to your Jupyter Notebook on your Github repository.\n\n"
        },
        {
            "metadata": {},
            "cell_type": "code",
            "source": "!pip install wikipedia",
            "execution_count": 4,
            "outputs": [
                {
                    "output_type": "stream",
                    "text": "Collecting wikipedia\n  Downloading wikipedia-1.4.0.tar.gz (27 kB)\nRequirement already satisfied: beautifulsoup4 in /opt/conda/envs/Python-3.7-main/lib/python3.7/site-packages (from wikipedia) (4.9.1)\nRequirement already satisfied: requests<3.0.0,>=2.0.0 in /opt/conda/envs/Python-3.7-main/lib/python3.7/site-packages (from wikipedia) (2.24.0)\nRequirement already satisfied: soupsieve>1.2 in /opt/conda/envs/Python-3.7-main/lib/python3.7/site-packages (from beautifulsoup4->wikipedia) (2.0.1)\nRequirement already satisfied: chardet<4,>=3.0.2 in /opt/conda/envs/Python-3.7-main/lib/python3.7/site-packages (from requests<3.0.0,>=2.0.0->wikipedia) (3.0.4)\nRequirement already satisfied: idna<3,>=2.5 in /opt/conda/envs/Python-3.7-main/lib/python3.7/site-packages (from requests<3.0.0,>=2.0.0->wikipedia) (2.9)\nRequirement already satisfied: urllib3!=1.25.0,!=1.25.1,<1.26,>=1.21.1 in /opt/conda/envs/Python-3.7-main/lib/python3.7/site-packages (from requests<3.0.0,>=2.0.0->wikipedia) (1.25.9)\nRequirement already satisfied: certifi>=2017.4.17 in /opt/conda/envs/Python-3.7-main/lib/python3.7/site-packages (from requests<3.0.0,>=2.0.0->wikipedia) (2020.12.5)\nBuilding wheels for collected packages: wikipedia\n  Building wheel for wikipedia (setup.py) ... \u001b[?25ldone\n\u001b[?25h  Created wheel for wikipedia: filename=wikipedia-1.4.0-py3-none-any.whl size=11685 sha256=9b77b2267aa3c847a9dc23317b095b296e6d3a35792edf4adf04ec86ae36785f\n  Stored in directory: /tmp/wsuser/.cache/pip/wheels/15/93/6d/5b2c68b8a64c7a7a04947b4ed6d89fb557dcc6bc27d1d7f3ba\nSuccessfully built wikipedia\nInstalling collected packages: wikipedia\nSuccessfully installed wikipedia-1.4.0\n",
                    "name": "stdout"
                }
            ]
        },
        {
            "metadata": {},
            "cell_type": "code",
            "source": "!pip install geopy",
            "execution_count": 1,
            "outputs": [
                {
                    "output_type": "stream",
                    "text": "Requirement already satisfied: geopy in /opt/conda/envs/Python-3.7-main/lib/python3.7/site-packages (2.0.0)\r\nRequirement already satisfied: geographiclib<2,>=1.49 in /opt/conda/envs/Python-3.7-main/lib/python3.7/site-packages (from geopy) (1.50)\r\n",
                    "name": "stdout"
                }
            ]
        },
        {
            "metadata": {},
            "cell_type": "code",
            "source": "!pip install folium",
            "execution_count": 2,
            "outputs": [
                {
                    "output_type": "stream",
                    "text": "Collecting folium\n  Downloading folium-0.12.1-py2.py3-none-any.whl (94 kB)\n\u001b[K     |\u2588\u2588\u2588\u2588\u2588\u2588\u2588\u2588\u2588\u2588\u2588\u2588\u2588\u2588\u2588\u2588\u2588\u2588\u2588\u2588\u2588\u2588\u2588\u2588\u2588\u2588\u2588\u2588\u2588\u2588\u2588\u2588| 94 kB 7.8 MB/s  eta 0:00:01\n\u001b[?25hRequirement already satisfied: jinja2>=2.9 in /opt/conda/envs/Python-3.7-main/lib/python3.7/site-packages (from folium) (2.11.2)\nRequirement already satisfied: requests in /opt/conda/envs/Python-3.7-main/lib/python3.7/site-packages (from folium) (2.24.0)\nRequirement already satisfied: numpy in /opt/conda/envs/Python-3.7-main/lib/python3.7/site-packages (from folium) (1.18.5)\nCollecting branca>=0.3.0\n  Downloading branca-0.4.2-py3-none-any.whl (24 kB)\nRequirement already satisfied: MarkupSafe>=0.23 in /opt/conda/envs/Python-3.7-main/lib/python3.7/site-packages (from jinja2>=2.9->folium) (1.1.1)\nRequirement already satisfied: certifi>=2017.4.17 in /opt/conda/envs/Python-3.7-main/lib/python3.7/site-packages (from requests->folium) (2020.12.5)\nRequirement already satisfied: idna<3,>=2.5 in /opt/conda/envs/Python-3.7-main/lib/python3.7/site-packages (from requests->folium) (2.9)\nRequirement already satisfied: chardet<4,>=3.0.2 in /opt/conda/envs/Python-3.7-main/lib/python3.7/site-packages (from requests->folium) (3.0.4)\nRequirement already satisfied: urllib3!=1.25.0,!=1.25.1,<1.26,>=1.21.1 in /opt/conda/envs/Python-3.7-main/lib/python3.7/site-packages (from requests->folium) (1.25.9)\nInstalling collected packages: branca, folium\nSuccessfully installed branca-0.4.2 folium-0.12.1\n",
                    "name": "stdout"
                }
            ]
        },
        {
            "metadata": {},
            "cell_type": "code",
            "source": "#Import Beautiful Soup, lxml, requests to scrap data from Toronto Neighborhood in Wikipedia\n#!pip install wikipedia\nimport wikipedia as wp\nimport numpy as np # library to handle data in a vectorized manner\nfrom bs4 import BeautifulSoup # library that handle the bs4\nimport pandas as pd # library for data analsysis\npd.set_option('display.max_columns', None)\npd.set_option('display.max_rows', None)\n\nimport json # library to handle JSON files\n\n#conda install -c conda-forge geopy --yes # uncomment this line if you haven't completed the Foursquare API lab\nfrom geopy.geocoders import Nominatim # convert an address into latitude and longitude values\n\nimport requests # library to handle requests\nfrom pandas.io.json import json_normalize # tranform JSON file into a pandas dataframe\n\n# Matplotlib and associated plotting modules\nimport matplotlib.cm as cm\nimport matplotlib.colors as colors\n\n# import k-means from clustering stage\nfrom sklearn.cluster import KMeans\n\n#!conda install -c conda-forge folium=0.5.0 --yes # uncomment this line if you haven't completed the Foursquare API lab\nimport folium # map rendering library\n\nprint(\"Libraries Imported!\")",
            "execution_count": 5,
            "outputs": [
                {
                    "output_type": "stream",
                    "text": "Libraries Imported!\n",
                    "name": "stdout"
                }
            ]
        },
        {
            "metadata": {},
            "cell_type": "markdown",
            "source": "### 1-  Obtening the Table from the wikipedia link"
        },
        {
            "metadata": {},
            "cell_type": "code",
            "source": "source = requests.get(\"https://en.wikipedia.org/wiki/List_of_postal_codes_of_Canada:_M\").text\nsoup = BeautifulSoup(source, 'lxml')\n\ntable = soup.find(\"table\")\ntable_rows = table.tbody.find_all(\"tr\")\n\nres = []\nfor tr in table_rows:\n    td = tr.find_all(\"td\")\n    row = [tr.text for tr in td]\n    \n    # Only process the cells that have an assigned borough. Ignore cells with a borough that is Not assigned.\n    if row != [] and row[1] != \"Not assigned\":\n         # If a cell has a borough but a \"Not assigned\" neighborhood, then the neighborhood will be the same as the borough.\n        if \"Not assigned\" in row[2]: \n            row[2] = row[1]\n        res.append(row)\n        \n# Dataframe with 3 columns\ndf = pd.DataFrame(res, columns = [\"PostalCode\", \"Borough\", \"Neighborhood\"])\ndf.head()",
            "execution_count": 6,
            "outputs": [
                {
                    "output_type": "execute_result",
                    "execution_count": 6,
                    "data": {
                        "text/plain": "  PostalCode             Borough                 Neighborhood\n0      M1A\\n      Not assigned\\n               Not assigned\\n\n1      M2A\\n      Not assigned\\n               Not assigned\\n\n2      M3A\\n        North York\\n                  Parkwoods\\n\n3      M4A\\n        North York\\n           Victoria Village\\n\n4      M5A\\n  Downtown Toronto\\n  Regent Park, Harbourfront\\n",
                        "text/html": "<div>\n<style scoped>\n    .dataframe tbody tr th:only-of-type {\n        vertical-align: middle;\n    }\n\n    .dataframe tbody tr th {\n        vertical-align: top;\n    }\n\n    .dataframe thead th {\n        text-align: right;\n    }\n</style>\n<table border=\"1\" class=\"dataframe\">\n  <thead>\n    <tr style=\"text-align: right;\">\n      <th></th>\n      <th>PostalCode</th>\n      <th>Borough</th>\n      <th>Neighborhood</th>\n    </tr>\n  </thead>\n  <tbody>\n    <tr>\n      <th>0</th>\n      <td>M1A\\n</td>\n      <td>Not assigned\\n</td>\n      <td>Not assigned\\n</td>\n    </tr>\n    <tr>\n      <th>1</th>\n      <td>M2A\\n</td>\n      <td>Not assigned\\n</td>\n      <td>Not assigned\\n</td>\n    </tr>\n    <tr>\n      <th>2</th>\n      <td>M3A\\n</td>\n      <td>North York\\n</td>\n      <td>Parkwoods\\n</td>\n    </tr>\n    <tr>\n      <th>3</th>\n      <td>M4A\\n</td>\n      <td>North York\\n</td>\n      <td>Victoria Village\\n</td>\n    </tr>\n    <tr>\n      <th>4</th>\n      <td>M5A\\n</td>\n      <td>Downtown Toronto\\n</td>\n      <td>Regent Park, Harbourfront\\n</td>\n    </tr>\n  </tbody>\n</table>\n</div>"
                    },
                    "metadata": {}
                }
            ]
        },
        {
            "metadata": {},
            "cell_type": "code",
            "source": "df = df.groupby([\"PostalCode\", \"Borough\"])[\"Neighborhood\"].apply(\", \".join).reset_index()\ndf.head()",
            "execution_count": 7,
            "outputs": [
                {
                    "output_type": "execute_result",
                    "execution_count": 7,
                    "data": {
                        "text/plain": "  PostalCode         Borough                              Neighborhood\n0      M1A\\n  Not assigned\\n                            Not assigned\\n\n1      M1B\\n   Scarborough\\n                          Malvern, Rouge\\n\n2      M1C\\n   Scarborough\\n  Rouge Hill, Port Union, Highland Creek\\n\n3      M1E\\n   Scarborough\\n       Guildwood, Morningside, West Hill\\n\n4      M1G\\n   Scarborough\\n                                  Woburn\\n",
                        "text/html": "<div>\n<style scoped>\n    .dataframe tbody tr th:only-of-type {\n        vertical-align: middle;\n    }\n\n    .dataframe tbody tr th {\n        vertical-align: top;\n    }\n\n    .dataframe thead th {\n        text-align: right;\n    }\n</style>\n<table border=\"1\" class=\"dataframe\">\n  <thead>\n    <tr style=\"text-align: right;\">\n      <th></th>\n      <th>PostalCode</th>\n      <th>Borough</th>\n      <th>Neighborhood</th>\n    </tr>\n  </thead>\n  <tbody>\n    <tr>\n      <th>0</th>\n      <td>M1A\\n</td>\n      <td>Not assigned\\n</td>\n      <td>Not assigned\\n</td>\n    </tr>\n    <tr>\n      <th>1</th>\n      <td>M1B\\n</td>\n      <td>Scarborough\\n</td>\n      <td>Malvern, Rouge\\n</td>\n    </tr>\n    <tr>\n      <th>2</th>\n      <td>M1C\\n</td>\n      <td>Scarborough\\n</td>\n      <td>Rouge Hill, Port Union, Highland Creek\\n</td>\n    </tr>\n    <tr>\n      <th>3</th>\n      <td>M1E\\n</td>\n      <td>Scarborough\\n</td>\n      <td>Guildwood, Morningside, West Hill\\n</td>\n    </tr>\n    <tr>\n      <th>4</th>\n      <td>M1G\\n</td>\n      <td>Scarborough\\n</td>\n      <td>Woburn\\n</td>\n    </tr>\n  </tbody>\n</table>\n</div>"
                    },
                    "metadata": {}
                }
            ]
        },
        {
            "metadata": {},
            "cell_type": "code",
            "source": "print(\"Shape: \", df.shape)",
            "execution_count": 8,
            "outputs": [
                {
                    "output_type": "stream",
                    "text": "Shape:  (180, 3)\n",
                    "name": "stdout"
                }
            ]
        },
        {
            "metadata": {},
            "cell_type": "markdown",
            "source": "### 3. Get the latitude and the longitude coordinates of each neighborhood."
        },
        {
            "metadata": {},
            "cell_type": "code",
            "source": "df_geo_coor = pd.read_csv(\"https://cocl.us/Geospatial_data\")\ndf_geo_coor.head()",
            "execution_count": 9,
            "outputs": [
                {
                    "output_type": "execute_result",
                    "execution_count": 9,
                    "data": {
                        "text/plain": "  Postal Code   Latitude  Longitude\n0         M1B  43.806686 -79.194353\n1         M1C  43.784535 -79.160497\n2         M1E  43.763573 -79.188711\n3         M1G  43.770992 -79.216917\n4         M1H  43.773136 -79.239476",
                        "text/html": "<div>\n<style scoped>\n    .dataframe tbody tr th:only-of-type {\n        vertical-align: middle;\n    }\n\n    .dataframe tbody tr th {\n        vertical-align: top;\n    }\n\n    .dataframe thead th {\n        text-align: right;\n    }\n</style>\n<table border=\"1\" class=\"dataframe\">\n  <thead>\n    <tr style=\"text-align: right;\">\n      <th></th>\n      <th>Postal Code</th>\n      <th>Latitude</th>\n      <th>Longitude</th>\n    </tr>\n  </thead>\n  <tbody>\n    <tr>\n      <th>0</th>\n      <td>M1B</td>\n      <td>43.806686</td>\n      <td>-79.194353</td>\n    </tr>\n    <tr>\n      <th>1</th>\n      <td>M1C</td>\n      <td>43.784535</td>\n      <td>-79.160497</td>\n    </tr>\n    <tr>\n      <th>2</th>\n      <td>M1E</td>\n      <td>43.763573</td>\n      <td>-79.188711</td>\n    </tr>\n    <tr>\n      <th>3</th>\n      <td>M1G</td>\n      <td>43.770992</td>\n      <td>-79.216917</td>\n    </tr>\n    <tr>\n      <th>4</th>\n      <td>M1H</td>\n      <td>43.773136</td>\n      <td>-79.239476</td>\n    </tr>\n  </tbody>\n</table>\n</div>"
                    },
                    "metadata": {}
                }
            ]
        },
        {
            "metadata": {},
            "cell_type": "code",
            "source": "import pandas as pd\nimport io\nimport requests\nurl=\"https://cocl.us/Geospatial_data\"\ns=requests.get(url).content\nc=pd.read_csv(io.StringIO(s.decode('utf-8')))\n\ndfc = df.join(c.set_index('Postal Code'))\ndfc.head()",
            "execution_count": 10,
            "outputs": [
                {
                    "output_type": "execute_result",
                    "execution_count": 10,
                    "data": {
                        "text/plain": "  PostalCode         Borough                              Neighborhood  \\\n0      M1A\\n  Not assigned\\n                            Not assigned\\n   \n1      M1B\\n   Scarborough\\n                          Malvern, Rouge\\n   \n2      M1C\\n   Scarborough\\n  Rouge Hill, Port Union, Highland Creek\\n   \n3      M1E\\n   Scarborough\\n       Guildwood, Morningside, West Hill\\n   \n4      M1G\\n   Scarborough\\n                                  Woburn\\n   \n\n   Latitude  Longitude  \n0       NaN        NaN  \n1       NaN        NaN  \n2       NaN        NaN  \n3       NaN        NaN  \n4       NaN        NaN  ",
                        "text/html": "<div>\n<style scoped>\n    .dataframe tbody tr th:only-of-type {\n        vertical-align: middle;\n    }\n\n    .dataframe tbody tr th {\n        vertical-align: top;\n    }\n\n    .dataframe thead th {\n        text-align: right;\n    }\n</style>\n<table border=\"1\" class=\"dataframe\">\n  <thead>\n    <tr style=\"text-align: right;\">\n      <th></th>\n      <th>PostalCode</th>\n      <th>Borough</th>\n      <th>Neighborhood</th>\n      <th>Latitude</th>\n      <th>Longitude</th>\n    </tr>\n  </thead>\n  <tbody>\n    <tr>\n      <th>0</th>\n      <td>M1A\\n</td>\n      <td>Not assigned\\n</td>\n      <td>Not assigned\\n</td>\n      <td>NaN</td>\n      <td>NaN</td>\n    </tr>\n    <tr>\n      <th>1</th>\n      <td>M1B\\n</td>\n      <td>Scarborough\\n</td>\n      <td>Malvern, Rouge\\n</td>\n      <td>NaN</td>\n      <td>NaN</td>\n    </tr>\n    <tr>\n      <th>2</th>\n      <td>M1C\\n</td>\n      <td>Scarborough\\n</td>\n      <td>Rouge Hill, Port Union, Highland Creek\\n</td>\n      <td>NaN</td>\n      <td>NaN</td>\n    </tr>\n    <tr>\n      <th>3</th>\n      <td>M1E\\n</td>\n      <td>Scarborough\\n</td>\n      <td>Guildwood, Morningside, West Hill\\n</td>\n      <td>NaN</td>\n      <td>NaN</td>\n    </tr>\n    <tr>\n      <th>4</th>\n      <td>M1G\\n</td>\n      <td>Scarborough\\n</td>\n      <td>Woburn\\n</td>\n      <td>NaN</td>\n      <td>NaN</td>\n    </tr>\n  </tbody>\n</table>\n</div>"
                    },
                    "metadata": {}
                }
            ]
        },
        {
            "metadata": {},
            "cell_type": "code",
            "source": "address = \"Toronto, ON\"\n\ngeolocator = Nominatim(user_agent=\"toronto_explorer\")\nlocation = geolocator.geocode(address)\nlatitude = location.latitude\nlongitude = location.longitude\nprint('The geograpical coordinate of Toronto city are {}, {}.'.format(latitude, longitude))",
            "execution_count": 11,
            "outputs": [
                {
                    "output_type": "stream",
                    "text": "The geograpical coordinate of Toronto city are 43.6534817, -79.3839347.\n",
                    "name": "stdout"
                }
            ]
        },
        {
            "metadata": {},
            "cell_type": "markdown",
            "source": "### Create a map of the whole Toronto City with neighborhoods superimposed on top."
        },
        {
            "metadata": {},
            "cell_type": "code",
            "source": "# create map of Toronto using latitude and longitude values\nmap_toronto = folium.Map(location=[latitude, longitude], zoom_start=10)\nmap_toronto",
            "execution_count": 28,
            "outputs": [
                {
                    "output_type": "execute_result",
                    "execution_count": 28,
                    "data": {
                        "text/plain": "<folium.folium.Map at 0x7ff185fc9e10>",
                        "text/html": "<div style=\"width:100%;\"><div style=\"position:relative;width:100%;height:0;padding-bottom:60%;\"><span style=\"color:#565656\">Make this Notebook Trusted to load map: File -> Trust Notebook</span><iframe src=\"about:blank\" style=\"position:absolute;width:100%;height:100%;left:0;top:0;border:none !important;\" data-html=%3C%21DOCTYPE%20html%3E%0A%3Chead%3E%20%20%20%20%0A%20%20%20%20%3Cmeta%20http-equiv%3D%22content-type%22%20content%3D%22text/html%3B%20charset%3DUTF-8%22%20/%3E%0A%20%20%20%20%0A%20%20%20%20%20%20%20%20%3Cscript%3E%0A%20%20%20%20%20%20%20%20%20%20%20%20L_NO_TOUCH%20%3D%20false%3B%0A%20%20%20%20%20%20%20%20%20%20%20%20L_DISABLE_3D%20%3D%20false%3B%0A%20%20%20%20%20%20%20%20%3C/script%3E%0A%20%20%20%20%0A%20%20%20%20%3Cstyle%3Ehtml%2C%20body%20%7Bwidth%3A%20100%25%3Bheight%3A%20100%25%3Bmargin%3A%200%3Bpadding%3A%200%3B%7D%3C/style%3E%0A%20%20%20%20%3Cstyle%3E%23map%20%7Bposition%3Aabsolute%3Btop%3A0%3Bbottom%3A0%3Bright%3A0%3Bleft%3A0%3B%7D%3C/style%3E%0A%20%20%20%20%3Cscript%20src%3D%22https%3A//cdn.jsdelivr.net/npm/leaflet%401.6.0/dist/leaflet.js%22%3E%3C/script%3E%0A%20%20%20%20%3Cscript%20src%3D%22https%3A//code.jquery.com/jquery-1.12.4.min.js%22%3E%3C/script%3E%0A%20%20%20%20%3Cscript%20src%3D%22https%3A//maxcdn.bootstrapcdn.com/bootstrap/3.2.0/js/bootstrap.min.js%22%3E%3C/script%3E%0A%20%20%20%20%3Cscript%20src%3D%22https%3A//cdnjs.cloudflare.com/ajax/libs/Leaflet.awesome-markers/2.0.2/leaflet.awesome-markers.js%22%3E%3C/script%3E%0A%20%20%20%20%3Clink%20rel%3D%22stylesheet%22%20href%3D%22https%3A//cdn.jsdelivr.net/npm/leaflet%401.6.0/dist/leaflet.css%22/%3E%0A%20%20%20%20%3Clink%20rel%3D%22stylesheet%22%20href%3D%22https%3A//maxcdn.bootstrapcdn.com/bootstrap/3.2.0/css/bootstrap.min.css%22/%3E%0A%20%20%20%20%3Clink%20rel%3D%22stylesheet%22%20href%3D%22https%3A//maxcdn.bootstrapcdn.com/bootstrap/3.2.0/css/bootstrap-theme.min.css%22/%3E%0A%20%20%20%20%3Clink%20rel%3D%22stylesheet%22%20href%3D%22https%3A//maxcdn.bootstrapcdn.com/font-awesome/4.6.3/css/font-awesome.min.css%22/%3E%0A%20%20%20%20%3Clink%20rel%3D%22stylesheet%22%20href%3D%22https%3A//cdnjs.cloudflare.com/ajax/libs/Leaflet.awesome-markers/2.0.2/leaflet.awesome-markers.css%22/%3E%0A%20%20%20%20%3Clink%20rel%3D%22stylesheet%22%20href%3D%22https%3A//cdn.jsdelivr.net/gh/python-visualization/folium/folium/templates/leaflet.awesome.rotate.min.css%22/%3E%0A%20%20%20%20%0A%20%20%20%20%20%20%20%20%20%20%20%20%3Cmeta%20name%3D%22viewport%22%20content%3D%22width%3Ddevice-width%2C%0A%20%20%20%20%20%20%20%20%20%20%20%20%20%20%20%20initial-scale%3D1.0%2C%20maximum-scale%3D1.0%2C%20user-scalable%3Dno%22%20/%3E%0A%20%20%20%20%20%20%20%20%20%20%20%20%3Cstyle%3E%0A%20%20%20%20%20%20%20%20%20%20%20%20%20%20%20%20%23map_efdd5deaae8c4d4191a7d21a3b7e488f%20%7B%0A%20%20%20%20%20%20%20%20%20%20%20%20%20%20%20%20%20%20%20%20position%3A%20relative%3B%0A%20%20%20%20%20%20%20%20%20%20%20%20%20%20%20%20%20%20%20%20width%3A%20100.0%25%3B%0A%20%20%20%20%20%20%20%20%20%20%20%20%20%20%20%20%20%20%20%20height%3A%20100.0%25%3B%0A%20%20%20%20%20%20%20%20%20%20%20%20%20%20%20%20%20%20%20%20left%3A%200.0%25%3B%0A%20%20%20%20%20%20%20%20%20%20%20%20%20%20%20%20%20%20%20%20top%3A%200.0%25%3B%0A%20%20%20%20%20%20%20%20%20%20%20%20%20%20%20%20%7D%0A%20%20%20%20%20%20%20%20%20%20%20%20%3C/style%3E%0A%20%20%20%20%20%20%20%20%0A%3C/head%3E%0A%3Cbody%3E%20%20%20%20%0A%20%20%20%20%0A%20%20%20%20%20%20%20%20%20%20%20%20%3Cdiv%20class%3D%22folium-map%22%20id%3D%22map_efdd5deaae8c4d4191a7d21a3b7e488f%22%20%3E%3C/div%3E%0A%20%20%20%20%20%20%20%20%0A%3C/body%3E%0A%3Cscript%3E%20%20%20%20%0A%20%20%20%20%0A%20%20%20%20%20%20%20%20%20%20%20%20var%20map_efdd5deaae8c4d4191a7d21a3b7e488f%20%3D%20L.map%28%0A%20%20%20%20%20%20%20%20%20%20%20%20%20%20%20%20%22map_efdd5deaae8c4d4191a7d21a3b7e488f%22%2C%0A%20%20%20%20%20%20%20%20%20%20%20%20%20%20%20%20%7B%0A%20%20%20%20%20%20%20%20%20%20%20%20%20%20%20%20%20%20%20%20center%3A%20%5B43.6534817%2C%20-79.3839347%5D%2C%0A%20%20%20%20%20%20%20%20%20%20%20%20%20%20%20%20%20%20%20%20crs%3A%20L.CRS.EPSG3857%2C%0A%20%20%20%20%20%20%20%20%20%20%20%20%20%20%20%20%20%20%20%20zoom%3A%2010%2C%0A%20%20%20%20%20%20%20%20%20%20%20%20%20%20%20%20%20%20%20%20zoomControl%3A%20true%2C%0A%20%20%20%20%20%20%20%20%20%20%20%20%20%20%20%20%20%20%20%20preferCanvas%3A%20false%2C%0A%20%20%20%20%20%20%20%20%20%20%20%20%20%20%20%20%7D%0A%20%20%20%20%20%20%20%20%20%20%20%20%29%3B%0A%0A%20%20%20%20%20%20%20%20%20%20%20%20%0A%0A%20%20%20%20%20%20%20%20%0A%20%20%20%20%0A%20%20%20%20%20%20%20%20%20%20%20%20var%20tile_layer_fae8e3be84a44363a7c1dd19f88d8e8e%20%3D%20L.tileLayer%28%0A%20%20%20%20%20%20%20%20%20%20%20%20%20%20%20%20%22https%3A//%7Bs%7D.tile.openstreetmap.org/%7Bz%7D/%7Bx%7D/%7By%7D.png%22%2C%0A%20%20%20%20%20%20%20%20%20%20%20%20%20%20%20%20%7B%22attribution%22%3A%20%22Data%20by%20%5Cu0026copy%3B%20%5Cu003ca%20href%3D%5C%22http%3A//openstreetmap.org%5C%22%5Cu003eOpenStreetMap%5Cu003c/a%5Cu003e%2C%20under%20%5Cu003ca%20href%3D%5C%22http%3A//www.openstreetmap.org/copyright%5C%22%5Cu003eODbL%5Cu003c/a%5Cu003e.%22%2C%20%22detectRetina%22%3A%20false%2C%20%22maxNativeZoom%22%3A%2018%2C%20%22maxZoom%22%3A%2018%2C%20%22minZoom%22%3A%200%2C%20%22noWrap%22%3A%20false%2C%20%22opacity%22%3A%201%2C%20%22subdomains%22%3A%20%22abc%22%2C%20%22tms%22%3A%20false%7D%0A%20%20%20%20%20%20%20%20%20%20%20%20%29.addTo%28map_efdd5deaae8c4d4191a7d21a3b7e488f%29%3B%0A%20%20%20%20%20%20%20%20%0A%3C/script%3E onload=\"this.contentDocument.open();this.contentDocument.write(    decodeURIComponent(this.getAttribute('data-html')));this.contentDocument.close();\" allowfullscreen webkitallowfullscreen mozallowfullscreen></iframe></div></div>"
                    },
                    "metadata": {}
                }
            ]
        },
        {
            "metadata": {},
            "cell_type": "markdown",
            "source": "### 4.4. Define Foursquare Credentials and Version\nOn the public repository on Github, I remove this field for the privacy!"
        },
        {
            "metadata": {},
            "cell_type": "code",
            "source": "CLIENT_ID = ''\nCLIENT_SECRET = ''\nVERSION = ''",
            "execution_count": 13,
            "outputs": []
        },
        {
            "metadata": {},
            "cell_type": "code",
            "source": "CLIENT_ID = 'T1LUMOHYFVR21KSZSVKTKIFO1DPONRPOL4PGKBLWSYTPNDNV' # your Foursquare ID\nCLIENT_SECRET = 'JBKZMRN5WS2PBXLZDUMMLCYJIDZELUNSSP3QKM51GSHXXWB0' # your Foursquare Secret\nVERSION = '20180604'\nLIMIT = 100\nprint('Your credentails:')\nprint('CLIENT_ID: ' + CLIENT_ID)\nprint('CLIENT_SECRET:' + CLIENT_SECRET)\nradius = 500\n#print(search_query + ' .... OK!')\n\nurl = 'https://api.foursquare.com/v2/venues/search?client_id={}&client_secret={}&ll={},{}&v={}&radius={}&limit={}'.format(CLIENT_ID, CLIENT_SECRET, latitude, longitude, VERSION, radius, LIMIT)\nurl",
            "execution_count": 14,
            "outputs": [
                {
                    "output_type": "stream",
                    "text": "Your credentails:\nCLIENT_ID: T1LUMOHYFVR21KSZSVKTKIFO1DPONRPOL4PGKBLWSYTPNDNV\nCLIENT_SECRET:JBKZMRN5WS2PBXLZDUMMLCYJIDZELUNSSP3QKM51GSHXXWB0\n",
                    "name": "stdout"
                },
                {
                    "output_type": "execute_result",
                    "execution_count": 14,
                    "data": {
                        "text/plain": "'https://api.foursquare.com/v2/venues/search?client_id=T1LUMOHYFVR21KSZSVKTKIFO1DPONRPOL4PGKBLWSYTPNDNV&client_secret=JBKZMRN5WS2PBXLZDUMMLCYJIDZELUNSSP3QKM51GSHXXWB0&ll=43.6534817,-79.3839347&v=20180604&radius=500&limit=100'"
                    },
                    "metadata": {}
                }
            ]
        },
        {
            "metadata": {},
            "cell_type": "code",
            "source": "def get_category_type(row):\n    try:\n        categories_list = row['categories']\n    except:\n        categories_list = row['venue.categories']\n        \n    if len(categories_list) == 0:\n        return None\n    else:\n        return categories_list[0]['name']\n",
            "execution_count": 20,
            "outputs": []
        },
        {
            "metadata": {},
            "cell_type": "code",
            "source": "#Send the GET request and examine the results\nresults = requests.get(url).json()\nresults\n\n# assign relevant part of JSON to venues\nvenues = results['response']['venues']\n\n# tranform venues into a dataframe\ndataframe = json_normalize(venues)\ndataframe.head()",
            "execution_count": 21,
            "outputs": [
                {
                    "output_type": "stream",
                    "text": "/opt/conda/envs/Python-3.7-main/lib/python3.7/site-packages/ipykernel/__main__.py:9: FutureWarning: pandas.io.json.json_normalize is deprecated, use pandas.json_normalize instead\n",
                    "name": "stderr"
                },
                {
                    "output_type": "execute_result",
                    "execution_count": 21,
                    "data": {
                        "text/plain": "                         id                                     name  \\\n0  4c093ee0340720a153728493               City Hall Council Chambers   \n1  4ad4c05ef964a5208ff620e3                        Toronto City Hall   \n2  5b193c42598e64002ca79b96  City of Toronto Civic Innovation Office   \n3  5a81bb73e7a2370cf92452dc                           Service Canada   \n4  4b06ef4cf964a52072f322e3                       Cafe On The Square   \n\n                                          categories    referralId  hasPerk  \\\n0  [{'id': '4bf58dd8d48988d129941735', 'name': 'C...  v-1614188063    False   \n1  [{'id': '4bf58dd8d48988d129941735', 'name': 'C...  v-1614188063    False   \n2  [{'id': '4bf58dd8d48988d129941735', 'name': 'C...  v-1614188063    False   \n3  [{'id': '4bf58dd8d48988d126941735', 'name': 'G...  v-1614188063    False   \n4  [{'id': '4bf58dd8d48988d1c4941735', 'name': 'R...  v-1614188063    False   \n\n   location.lat  location.lng  \\\n0     43.651827    -79.383949   \n1     43.653140    -79.383967   \n2     43.653454    -79.383952   \n3     43.653119    -79.384252   \n4     43.652633    -79.383361   \n\n                             location.labeledLatLngs  location.distance  \\\n0  [{'label': 'display', 'lat': 43.65182710471462...                184   \n1  [{'label': 'display', 'lat': 43.65313989695342...                 38   \n2  [{'label': 'display', 'lat': 43.653454, 'lng':...                  3   \n3  [{'label': 'display', 'lat': 43.653119, 'lng':...                 47   \n4  [{'label': 'display', 'lat': 43.65263298456729...                105   \n\n  location.cc location.country  \\\n0          CA           Canada   \n1          CA           Canada   \n2          CA           Canada   \n3          CA           Canada   \n4          CA           Canada   \n\n                           location.formattedAddress  location.address  \\\n0                                           [Canada]               NaN   \n1  [100 Queen St. W. (at Bay St.), Toronto ON M5H...  100 Queen St. W.   \n2       [100 Queen St W, Toronto ON M5H 2N2, Canada]    100 Queen St W   \n3                           [Toronto ON M5G, Canada]               NaN   \n4       [100 Queen St W, Toronto ON M5H 2N2, Canada]    100 Queen St W   \n\n  location.crossStreet location.postalCode location.city location.state  \\\n0                  NaN                 NaN           NaN            NaN   \n1           at Bay St.             M5H 2N2       Toronto             ON   \n2                  NaN             M5H 2N2       Toronto             ON   \n3                  NaN                 M5G       Toronto             ON   \n4                  NaN             M5H 2N2       Toronto             ON   \n\n  location.neighborhood  \n0                   NaN  \n1                   NaN  \n2                   NaN  \n3                   NaN  \n4                   NaN  ",
                        "text/html": "<div>\n<style scoped>\n    .dataframe tbody tr th:only-of-type {\n        vertical-align: middle;\n    }\n\n    .dataframe tbody tr th {\n        vertical-align: top;\n    }\n\n    .dataframe thead th {\n        text-align: right;\n    }\n</style>\n<table border=\"1\" class=\"dataframe\">\n  <thead>\n    <tr style=\"text-align: right;\">\n      <th></th>\n      <th>id</th>\n      <th>name</th>\n      <th>categories</th>\n      <th>referralId</th>\n      <th>hasPerk</th>\n      <th>location.lat</th>\n      <th>location.lng</th>\n      <th>location.labeledLatLngs</th>\n      <th>location.distance</th>\n      <th>location.cc</th>\n      <th>location.country</th>\n      <th>location.formattedAddress</th>\n      <th>location.address</th>\n      <th>location.crossStreet</th>\n      <th>location.postalCode</th>\n      <th>location.city</th>\n      <th>location.state</th>\n      <th>location.neighborhood</th>\n    </tr>\n  </thead>\n  <tbody>\n    <tr>\n      <th>0</th>\n      <td>4c093ee0340720a153728493</td>\n      <td>City Hall Council Chambers</td>\n      <td>[{'id': '4bf58dd8d48988d129941735', 'name': 'C...</td>\n      <td>v-1614188063</td>\n      <td>False</td>\n      <td>43.651827</td>\n      <td>-79.383949</td>\n      <td>[{'label': 'display', 'lat': 43.65182710471462...</td>\n      <td>184</td>\n      <td>CA</td>\n      <td>Canada</td>\n      <td>[Canada]</td>\n      <td>NaN</td>\n      <td>NaN</td>\n      <td>NaN</td>\n      <td>NaN</td>\n      <td>NaN</td>\n      <td>NaN</td>\n    </tr>\n    <tr>\n      <th>1</th>\n      <td>4ad4c05ef964a5208ff620e3</td>\n      <td>Toronto City Hall</td>\n      <td>[{'id': '4bf58dd8d48988d129941735', 'name': 'C...</td>\n      <td>v-1614188063</td>\n      <td>False</td>\n      <td>43.653140</td>\n      <td>-79.383967</td>\n      <td>[{'label': 'display', 'lat': 43.65313989695342...</td>\n      <td>38</td>\n      <td>CA</td>\n      <td>Canada</td>\n      <td>[100 Queen St. W. (at Bay St.), Toronto ON M5H...</td>\n      <td>100 Queen St. W.</td>\n      <td>at Bay St.</td>\n      <td>M5H 2N2</td>\n      <td>Toronto</td>\n      <td>ON</td>\n      <td>NaN</td>\n    </tr>\n    <tr>\n      <th>2</th>\n      <td>5b193c42598e64002ca79b96</td>\n      <td>City of Toronto Civic Innovation Office</td>\n      <td>[{'id': '4bf58dd8d48988d129941735', 'name': 'C...</td>\n      <td>v-1614188063</td>\n      <td>False</td>\n      <td>43.653454</td>\n      <td>-79.383952</td>\n      <td>[{'label': 'display', 'lat': 43.653454, 'lng':...</td>\n      <td>3</td>\n      <td>CA</td>\n      <td>Canada</td>\n      <td>[100 Queen St W, Toronto ON M5H 2N2, Canada]</td>\n      <td>100 Queen St W</td>\n      <td>NaN</td>\n      <td>M5H 2N2</td>\n      <td>Toronto</td>\n      <td>ON</td>\n      <td>NaN</td>\n    </tr>\n    <tr>\n      <th>3</th>\n      <td>5a81bb73e7a2370cf92452dc</td>\n      <td>Service Canada</td>\n      <td>[{'id': '4bf58dd8d48988d126941735', 'name': 'G...</td>\n      <td>v-1614188063</td>\n      <td>False</td>\n      <td>43.653119</td>\n      <td>-79.384252</td>\n      <td>[{'label': 'display', 'lat': 43.653119, 'lng':...</td>\n      <td>47</td>\n      <td>CA</td>\n      <td>Canada</td>\n      <td>[Toronto ON M5G, Canada]</td>\n      <td>NaN</td>\n      <td>NaN</td>\n      <td>M5G</td>\n      <td>Toronto</td>\n      <td>ON</td>\n      <td>NaN</td>\n    </tr>\n    <tr>\n      <th>4</th>\n      <td>4b06ef4cf964a52072f322e3</td>\n      <td>Cafe On The Square</td>\n      <td>[{'id': '4bf58dd8d48988d1c4941735', 'name': 'R...</td>\n      <td>v-1614188063</td>\n      <td>False</td>\n      <td>43.652633</td>\n      <td>-79.383361</td>\n      <td>[{'label': 'display', 'lat': 43.65263298456729...</td>\n      <td>105</td>\n      <td>CA</td>\n      <td>Canada</td>\n      <td>[100 Queen St W, Toronto ON M5H 2N2, Canada]</td>\n      <td>100 Queen St W</td>\n      <td>NaN</td>\n      <td>M5H 2N2</td>\n      <td>Toronto</td>\n      <td>ON</td>\n      <td>NaN</td>\n    </tr>\n  </tbody>\n</table>\n</div>"
                    },
                    "metadata": {}
                }
            ]
        },
        {
            "metadata": {
                "scrolled": true
            },
            "cell_type": "code",
            "source": "# keep only columns that include venue name, and anything that is associated with location\nfiltered_columns = ['name', 'categories'] + [col for col in dataframe.columns if col.startswith('location.')] + ['id']\ndataframe_filtered = dataframe.loc[:, filtered_columns]\n\n# function that extracts the category of the venue\ndef get_category_type(row):\n    try:\n        categories_list = row['categories']\n    except:\n        categories_list = row['venue.categories']\n        \n    if len(categories_list) == 0:\n        return None\n    else:\n        return categories_list[0]['name']\n\n# filter the category for each row\ndataframe_filtered['categories'] = dataframe_filtered.apply(get_category_type, axis=1)\n\n# clean column names by keeping only last term\ndataframe_filtered.columns = [column.split('.')[-1] for column in dataframe_filtered.columns]\n\ndataframe_filtered.head()",
            "execution_count": 22,
            "outputs": [
                {
                    "output_type": "execute_result",
                    "execution_count": 22,
                    "data": {
                        "text/plain": "                                      name           categories        lat  \\\n0               City Hall Council Chambers            City Hall  43.651827   \n1                        Toronto City Hall            City Hall  43.653140   \n2  City of Toronto Civic Innovation Office            City Hall  43.653454   \n3                           Service Canada  Government Building  43.653119   \n4                       Cafe On The Square           Restaurant  43.652633   \n\n         lng                                     labeledLatLngs  distance  cc  \\\n0 -79.383949  [{'label': 'display', 'lat': 43.65182710471462...       184  CA   \n1 -79.383967  [{'label': 'display', 'lat': 43.65313989695342...        38  CA   \n2 -79.383952  [{'label': 'display', 'lat': 43.653454, 'lng':...         3  CA   \n3 -79.384252  [{'label': 'display', 'lat': 43.653119, 'lng':...        47  CA   \n4 -79.383361  [{'label': 'display', 'lat': 43.65263298456729...       105  CA   \n\n  country                                   formattedAddress  \\\n0  Canada                                           [Canada]   \n1  Canada  [100 Queen St. W. (at Bay St.), Toronto ON M5H...   \n2  Canada       [100 Queen St W, Toronto ON M5H 2N2, Canada]   \n3  Canada                           [Toronto ON M5G, Canada]   \n4  Canada       [100 Queen St W, Toronto ON M5H 2N2, Canada]   \n\n            address crossStreet postalCode     city state neighborhood  \\\n0               NaN         NaN        NaN      NaN   NaN          NaN   \n1  100 Queen St. W.  at Bay St.    M5H 2N2  Toronto    ON          NaN   \n2    100 Queen St W         NaN    M5H 2N2  Toronto    ON          NaN   \n3               NaN         NaN        M5G  Toronto    ON          NaN   \n4    100 Queen St W         NaN    M5H 2N2  Toronto    ON          NaN   \n\n                         id  \n0  4c093ee0340720a153728493  \n1  4ad4c05ef964a5208ff620e3  \n2  5b193c42598e64002ca79b96  \n3  5a81bb73e7a2370cf92452dc  \n4  4b06ef4cf964a52072f322e3  ",
                        "text/html": "<div>\n<style scoped>\n    .dataframe tbody tr th:only-of-type {\n        vertical-align: middle;\n    }\n\n    .dataframe tbody tr th {\n        vertical-align: top;\n    }\n\n    .dataframe thead th {\n        text-align: right;\n    }\n</style>\n<table border=\"1\" class=\"dataframe\">\n  <thead>\n    <tr style=\"text-align: right;\">\n      <th></th>\n      <th>name</th>\n      <th>categories</th>\n      <th>lat</th>\n      <th>lng</th>\n      <th>labeledLatLngs</th>\n      <th>distance</th>\n      <th>cc</th>\n      <th>country</th>\n      <th>formattedAddress</th>\n      <th>address</th>\n      <th>crossStreet</th>\n      <th>postalCode</th>\n      <th>city</th>\n      <th>state</th>\n      <th>neighborhood</th>\n      <th>id</th>\n    </tr>\n  </thead>\n  <tbody>\n    <tr>\n      <th>0</th>\n      <td>City Hall Council Chambers</td>\n      <td>City Hall</td>\n      <td>43.651827</td>\n      <td>-79.383949</td>\n      <td>[{'label': 'display', 'lat': 43.65182710471462...</td>\n      <td>184</td>\n      <td>CA</td>\n      <td>Canada</td>\n      <td>[Canada]</td>\n      <td>NaN</td>\n      <td>NaN</td>\n      <td>NaN</td>\n      <td>NaN</td>\n      <td>NaN</td>\n      <td>NaN</td>\n      <td>4c093ee0340720a153728493</td>\n    </tr>\n    <tr>\n      <th>1</th>\n      <td>Toronto City Hall</td>\n      <td>City Hall</td>\n      <td>43.653140</td>\n      <td>-79.383967</td>\n      <td>[{'label': 'display', 'lat': 43.65313989695342...</td>\n      <td>38</td>\n      <td>CA</td>\n      <td>Canada</td>\n      <td>[100 Queen St. W. (at Bay St.), Toronto ON M5H...</td>\n      <td>100 Queen St. W.</td>\n      <td>at Bay St.</td>\n      <td>M5H 2N2</td>\n      <td>Toronto</td>\n      <td>ON</td>\n      <td>NaN</td>\n      <td>4ad4c05ef964a5208ff620e3</td>\n    </tr>\n    <tr>\n      <th>2</th>\n      <td>City of Toronto Civic Innovation Office</td>\n      <td>City Hall</td>\n      <td>43.653454</td>\n      <td>-79.383952</td>\n      <td>[{'label': 'display', 'lat': 43.653454, 'lng':...</td>\n      <td>3</td>\n      <td>CA</td>\n      <td>Canada</td>\n      <td>[100 Queen St W, Toronto ON M5H 2N2, Canada]</td>\n      <td>100 Queen St W</td>\n      <td>NaN</td>\n      <td>M5H 2N2</td>\n      <td>Toronto</td>\n      <td>ON</td>\n      <td>NaN</td>\n      <td>5b193c42598e64002ca79b96</td>\n    </tr>\n    <tr>\n      <th>3</th>\n      <td>Service Canada</td>\n      <td>Government Building</td>\n      <td>43.653119</td>\n      <td>-79.384252</td>\n      <td>[{'label': 'display', 'lat': 43.653119, 'lng':...</td>\n      <td>47</td>\n      <td>CA</td>\n      <td>Canada</td>\n      <td>[Toronto ON M5G, Canada]</td>\n      <td>NaN</td>\n      <td>NaN</td>\n      <td>M5G</td>\n      <td>Toronto</td>\n      <td>ON</td>\n      <td>NaN</td>\n      <td>5a81bb73e7a2370cf92452dc</td>\n    </tr>\n    <tr>\n      <th>4</th>\n      <td>Cafe On The Square</td>\n      <td>Restaurant</td>\n      <td>43.652633</td>\n      <td>-79.383361</td>\n      <td>[{'label': 'display', 'lat': 43.65263298456729...</td>\n      <td>105</td>\n      <td>CA</td>\n      <td>Canada</td>\n      <td>[100 Queen St W, Toronto ON M5H 2N2, Canada]</td>\n      <td>100 Queen St W</td>\n      <td>NaN</td>\n      <td>M5H 2N2</td>\n      <td>Toronto</td>\n      <td>ON</td>\n      <td>NaN</td>\n      <td>4b06ef4cf964a52072f322e3</td>\n    </tr>\n  </tbody>\n</table>\n</div>"
                    },
                    "metadata": {}
                }
            ]
        },
        {
            "metadata": {},
            "cell_type": "markdown",
            "source": "To create a function that can generate the number of venues in Toronto"
        },
        {
            "metadata": {},
            "cell_type": "code",
            "source": "#Create function to know how many venues there are in Toronto\n\ndef getNearbyVenues(names, latitudes, longitudes, radius=500):\n    \n    venues_list=[]\n    for name, lat, lng in zip(names, latitudes, longitudes):\n        print(name)\n            \n        # create the API request URL\n        url = 'https://api.foursquare.com/v2/venues/explore?&client_id={}&client_secret={}&v={}&ll={},{}&radius={}&limit={}'.format(\n            CLIENT_ID, \n            CLIENT_SECRET, \n            VERSION, \n            lat, \n            lng, \n            radius, \n            LIMIT)\n            \n        # make the GET request\n        results = requests.get(url).json()[\"response\"]['groups'][0]['items']\n        \n        # return only relevant information for each nearby venue\n        venues_list.append([(\n            name, \n            lat, \n            lng, \n            v['venue']['name'], \n            v['venue']['location']['lat'], \n            v['venue']['location']['lng'],  \n            v['venue']['categories'][0]['name']) for v in results])\n\n    nearby_venues = pd.DataFrame([item for venue_list in venues_list for item in venue_list])\n    nearby_venues.columns = ['Neighborhood', \n                  'Neighborhood Latitude', \n                  'Neighborhood Longitude', \n                  'Venue', \n                  'Venue Latitude', \n                  'Venue Longitude', \n                  'Venue Category']\n    \n    return(nearby_venues)",
            "execution_count": 26,
            "outputs": []
        },
        {
            "metadata": {},
            "cell_type": "code",
            "source": "#List of Neighborhood that have venues in Toronto\ntoronto_venues = getNearbyVenues(names=dfc['Neighborhood'],\n                                   latitudes=dfc['Latitude'],\n                                   longitudes=dfc['Longitude']\n                                  )\n\ntoronto_venues.head()",
            "execution_count": null,
            "outputs": []
        },
        {
            "metadata": {},
            "cell_type": "code",
            "source": "",
            "execution_count": null,
            "outputs": []
        }
    ],
    "metadata": {
        "kernelspec": {
            "name": "python3",
            "display_name": "Python 3.7",
            "language": "python"
        },
        "language_info": {
            "name": "python",
            "version": "3.7.9",
            "mimetype": "text/x-python",
            "codemirror_mode": {
                "name": "ipython",
                "version": 3
            },
            "pygments_lexer": "ipython3",
            "nbconvert_exporter": "python",
            "file_extension": ".py"
        }
    },
    "nbformat": 4,
    "nbformat_minor": 1
}